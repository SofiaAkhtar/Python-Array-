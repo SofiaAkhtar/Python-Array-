{
  "nbformat": 4,
  "nbformat_minor": 0,
  "metadata": {
    "colab": {
      "provenance": [],
      "authorship_tag": "ABX9TyNbZBR7E3/OOTF6R7HiRMac",
      "include_colab_link": true
    },
    "kernelspec": {
      "name": "python3",
      "display_name": "Python 3"
    },
    "language_info": {
      "name": "python"
    }
  },
  "cells": [
    {
      "cell_type": "markdown",
      "metadata": {
        "id": "view-in-github",
        "colab_type": "text"
      },
      "source": [
        "<a href=\"https://colab.research.google.com/github/SofiaAkhtar/Python-Array-/blob/main/array2.ipynb\" target=\"_parent\"><img src=\"https://colab.research.google.com/assets/colab-badge.svg\" alt=\"Open In Colab\"/></a>"
      ]
    },
    {
      "cell_type": "code",
      "execution_count": null,
      "metadata": {
        "colab": {
          "base_uri": "https://localhost:8080/"
        },
        "id": "fpfVamJLzXZk",
        "outputId": "b2badd5f-2bfc-4411-8012-e6ff783e4cdb"
      },
      "outputs": [
        {
          "output_type": "stream",
          "name": "stdout",
          "text": [
            "Numbers with sum 6: 2 and 4\n"
          ]
        }
      ],
      "source": [
        "def find_numbers_with_sum(lst, k):\n",
        "    for i in range(len(lst)):\n",
        "        for j in range(i + 1, len(lst)):\n",
        "            if lst[i] + lst[j] == k:\n",
        "                return lst[i], lst[j]\n",
        "    return None\n",
        "\n",
        "# Example usage:\n",
        "numbers = [1, 2, 3, 4]\n",
        "target_sum = 6\n",
        "result = find_numbers_with_sum(numbers, target_sum)\n",
        "\n",
        "if result:\n",
        "    print(f\"Numbers with sum {target_sum}: {result[0]} and {result[1]}\")\n",
        "else:\n",
        "    print(f\"No numbers found with sum {target_sum}\")\n"
      ]
    },
    {
      "cell_type": "markdown",
      "source": [
        "[1,2,3,4] output: [24,12,8,6]"
      ],
      "metadata": {
        "id": "ywfTGvFk1e7D"
      }
    },
    {
      "cell_type": "code",
      "source": [
        "def find_product(lst):\n",
        "    lst1 = []\n",
        "    for i in range(len(lst)):\n",
        "        product = 1\n",
        "        for j in range(len(lst)):\n",
        "            if i != j:\n",
        "                product *= lst[j]\n",
        "        lst1.append(product)\n",
        "    return lst1\n",
        "\n",
        "\n",
        "\n"
      ],
      "metadata": {
        "id": "kpPGzAUy1KeR"
      },
      "execution_count": null,
      "outputs": []
    },
    {
      "cell_type": "code",
      "source": [
        "input_list = [1, 2, 3, 4]\n",
        "output_list = find_product(input_list)\n",
        "print(output_list)\n"
      ],
      "metadata": {
        "colab": {
          "base_uri": "https://localhost:8080/"
        },
        "id": "1lwh_8VU5HJD",
        "outputId": "a29de8c5-bc8d-4148-d0a4-060345ed9e63"
      },
      "execution_count": null,
      "outputs": [
        {
          "output_type": "stream",
          "name": "stdout",
          "text": [
            "[24, 12, 8, 6]\n"
          ]
        }
      ]
    },
    {
      "cell_type": "code",
      "source": [
        "def find_product(lst):\n",
        "    lst1 = []\n",
        "    for i in range(len(lst)):\n",
        "        product = 1\n",
        "        for j in range(len(lst)):\n",
        "            if i != j:\n",
        "                product *= lst[j]\n",
        "        lst1.append(product)\n",
        "    return lst1\n",
        "\n",
        "# Example usage:\n",
        "input_list = [1, 2, 3, 4]\n",
        "output_list = find_product(input_list)\n",
        "print(output_list)\n"
      ],
      "metadata": {
        "id": "zSMnpM9Q40ev"
      },
      "execution_count": null,
      "outputs": []
    },
    {
      "cell_type": "code",
      "source": [
        "def product_except_self(nums):\n",
        "    n = len(nums)\n",
        "\n",
        "    # Initialize two arrays to store products from left and right\n",
        "    left_products = [1] * n\n",
        "    right_products = [1] * n\n",
        "\n",
        "    # Calculate products of elements to the left of each element\n",
        "    left_product = 1\n",
        "    for i in range(1, n):\n",
        "        left_product *= nums[i - 1]\n",
        "        left_products[i] = left_product\n",
        "\n",
        "    # Calculate products of elements to the right of each element\n",
        "    right_product = 1\n",
        "    for i in range(n - 2, -1, -1):\n",
        "        right_product *= nums[i + 1]\n",
        "        right_products[i] = right_product\n",
        "\n",
        "    # Calculate the final result by multiplying left and right products\n",
        "    result = [left_products[i] * right_products[i] for i in range(n)]\n",
        "\n",
        "    return result\n",
        "\n",
        "# Example usage:\n",
        "input_list = [1, 2, 3, 4]\n",
        "output_list = product_except_self(input_list)\n",
        "print(output_list)\n"
      ],
      "metadata": {
        "colab": {
          "base_uri": "https://localhost:8080/"
        },
        "id": "zRg8q6hn4VxQ",
        "outputId": "e4030d41-9f45-4849-bd06-ca9bddb1abe4"
      },
      "execution_count": null,
      "outputs": [
        {
          "output_type": "stream",
          "name": "stdout",
          "text": [
            "[24, 12, 8, 6]\n"
          ]
        }
      ]
    },
    {
      "cell_type": "markdown",
      "source": [
        "min in a list"
      ],
      "metadata": {
        "id": "NF2NAbOg6zC7"
      }
    },
    {
      "cell_type": "code",
      "source": [
        "def min(lst):\n",
        "    for i in range (len(lst)):\n",
        "        min = lst[i]\n",
        "        for j in range(len(lst)):\n",
        "            if lst[j] < min:\n",
        "                min = lst[j]\n",
        "    return min"
      ],
      "metadata": {
        "id": "JD_gJnm76yfC"
      },
      "execution_count": null,
      "outputs": []
    },
    {
      "cell_type": "code",
      "source": [
        "min([1,2,3,0,-1])"
      ],
      "metadata": {
        "colab": {
          "base_uri": "https://localhost:8080/"
        },
        "id": "N4oyPw-57K11",
        "outputId": "d1714201-d731-482c-da59-80bc7e6f74eb"
      },
      "execution_count": null,
      "outputs": [
        {
          "output_type": "execute_result",
          "data": {
            "text/plain": [
              "-1"
            ]
          },
          "metadata": {},
          "execution_count": 13
        }
      ]
    },
    {
      "cell_type": "markdown",
      "source": [
        "first unique element in a list"
      ],
      "metadata": {
        "id": "WTy9MAhU72l0"
      }
    },
    {
      "cell_type": "code",
      "source": [
        "def unique(lst):\n",
        "    for i in range(len(lst)):\n",
        "        uni = lst[i]\n",
        "        is_unique = True\n",
        "        for j in range(len(lst)):\n",
        "            if uni == lst[j] and i != j:\n",
        "                is_unique = False\n",
        "                break\n",
        "        if is_unique:\n",
        "            return uni\n",
        "    return -1"
      ],
      "metadata": {
        "id": "E8Iwz3XN761Q"
      },
      "execution_count": null,
      "outputs": []
    },
    {
      "cell_type": "code",
      "source": [
        "unique([4,4,1,1,2,3,4,6,7,7,3])"
      ],
      "metadata": {
        "colab": {
          "base_uri": "https://localhost:8080/"
        },
        "id": "uKEzn8WH8PYW",
        "outputId": "7f2d2aac-e7dd-407d-db58-ad8586161320"
      },
      "execution_count": null,
      "outputs": [
        {
          "output_type": "execute_result",
          "data": {
            "text/plain": [
              "2"
            ]
          },
          "metadata": {},
          "execution_count": 24
        }
      ]
    },
    {
      "cell_type": "code",
      "source": [
        "def unique(lst):\n",
        "    for i in range(len(lst)):\n",
        "        uni = lst[i]\n",
        "        is_unique = True\n",
        "        for j in range(len(lst)):\n",
        "            if i != j and uni == lst[j]:\n",
        "                is_unique = False\n",
        "                break\n",
        "\n",
        "        if is_unique:\n",
        "            return uni\n",
        "\n",
        "    return -1\n",
        "\n",
        "# Example usage:\n",
        "input_list = [2, 3, 4, 2, 5, 6, 3, 7]\n",
        "result = unique(input_list)\n",
        "print(result)\n"
      ],
      "metadata": {
        "id": "-e2vuvQe9gbx"
      },
      "execution_count": null,
      "outputs": []
    },
    {
      "cell_type": "markdown",
      "source": [
        "2nd largest in a list"
      ],
      "metadata": {
        "id": "2YSGgNWC-4We"
      }
    },
    {
      "cell_type": "code",
      "source": [
        "def second_largest(lst):\n",
        "    lst.sort()\n",
        "    second = len(lst) - 2\n",
        "    return lst[second]"
      ],
      "metadata": {
        "id": "o6-sSk9D-7EY"
      },
      "execution_count": null,
      "outputs": []
    },
    {
      "cell_type": "code",
      "source": [
        "second_largest([3,1,6,7,8,12,10,3,9])"
      ],
      "metadata": {
        "colab": {
          "base_uri": "https://localhost:8080/"
        },
        "id": "rNoi7XbU_F86",
        "outputId": "b082f301-854a-47a0-e3b5-333ee048a892"
      },
      "execution_count": null,
      "outputs": [
        {
          "output_type": "execute_result",
          "data": {
            "text/plain": [
              "10"
            ]
          },
          "metadata": {},
          "execution_count": 32
        }
      ]
    },
    {
      "cell_type": "markdown",
      "source": [
        "right rotate"
      ],
      "metadata": {
        "id": "eXxSmzGZAM10"
      }
    },
    {
      "cell_type": "code",
      "source": [
        "def right_rotate(lst,k):\n",
        "    lst1 = []\n",
        "    lst2 = []\n",
        "    x = len(lst)\n",
        "    lst2 = lst[x-k:]\n",
        "    lst1 = lst[:x-k]\n",
        "    return lst2 + lst1\n"
      ],
      "metadata": {
        "id": "7QJxSb0QAO1M"
      },
      "execution_count": null,
      "outputs": []
    },
    {
      "cell_type": "code",
      "source": [
        "right_rotate([56,89,90,43,67,44],2)"
      ],
      "metadata": {
        "colab": {
          "base_uri": "https://localhost:8080/"
        },
        "id": "MYyjIL1wCegO",
        "outputId": "fcb8bb26-0395-42d0-e5f5-c8ed309ffe54"
      },
      "execution_count": null,
      "outputs": [
        {
          "output_type": "execute_result",
          "data": {
            "text/plain": [
              "[67, 44, 56, 89, 90, 43]"
            ]
          },
          "metadata": {},
          "execution_count": 4
        }
      ]
    },
    {
      "cell_type": "code",
      "source": [
        "def right_rotate(lst, k):\n",
        "    lst1 = []\n",
        "    lst2 = []\n",
        "    x = lst.index(k)\n",
        "    lst1 = lst[x+1:]  # Corrected syntax\n",
        "    lst2 = lst[:x]\n",
        "    lst1.reverse()\n",
        "    return lst1 + lst2\n",
        "\n",
        "# Example usage:\n",
        "input_list = [1, 2, 3, 4, 5]\n",
        "k_element = 3\n",
        "result = right_rotate(input_list, k_element)\n",
        "print(result)\n"
      ],
      "metadata": {
        "colab": {
          "base_uri": "https://localhost:8080/"
        },
        "id": "2XONkSItCYNs",
        "outputId": "110d108c-4621-496d-dc21-88a053d2f36e"
      },
      "execution_count": null,
      "outputs": [
        {
          "output_type": "stream",
          "name": "stdout",
          "text": [
            "[5, 4, 1, 2]\n"
          ]
        }
      ]
    },
    {
      "cell_type": "markdown",
      "source": [
        "negatives one side positives one side"
      ],
      "metadata": {
        "id": "RgmXOCV3qnFg"
      }
    },
    {
      "cell_type": "code",
      "source": [
        "def rearrange(lst):\n",
        "    lst1=[]\n",
        "    lst2=[]\n",
        "    for i in range(len(lst)):\n",
        "        if lst[i] < 1:\n",
        "            lst1.append(lst[i])\n",
        "        else:\n",
        "            lst2.append(lst[i])\n",
        "    return lst1 + lst2"
      ],
      "metadata": {
        "id": "kui4L-F8qmjy"
      },
      "execution_count": null,
      "outputs": []
    },
    {
      "cell_type": "code",
      "source": [
        "rearrange([1,2,3,4,-5,-4,0,2])"
      ],
      "metadata": {
        "colab": {
          "base_uri": "https://localhost:8080/"
        },
        "id": "1OzKfjQBrmOK",
        "outputId": "7642599c-bd57-45c4-f313-78df95c1b4a1"
      },
      "execution_count": null,
      "outputs": [
        {
          "output_type": "execute_result",
          "data": {
            "text/plain": [
              "[-5, -4, 0, 1, 2, 3, 4, 2]"
            ]
          },
          "metadata": {},
          "execution_count": 6
        }
      ]
    },
    {
      "cell_type": "code",
      "source": [
        "def min_max(lst):\n",
        "    lst1=[]\n",
        "    for i in range (len(lst)):\n",
        "        if i%2 ==0:\n",
        "            lst1.append(lst[len(lst)-i-1])\n",
        "        else:\n",
        "            lst1.append(lst[i])\n",
        "    return lst1"
      ],
      "metadata": {
        "id": "9ebCbSKqswqu"
      },
      "execution_count": null,
      "outputs": []
    },
    {
      "cell_type": "code",
      "source": [
        "min_max([1,2,3,4,5])"
      ],
      "metadata": {
        "colab": {
          "base_uri": "https://localhost:8080/"
        },
        "id": "4b7RM1kBuErD",
        "outputId": "cf755220-24cd-4c73-e7c3-f019a2238e61"
      },
      "execution_count": null,
      "outputs": [
        {
          "output_type": "execute_result",
          "data": {
            "text/plain": [
              "[5, 2, 3, 4, 1]"
            ]
          },
          "metadata": {},
          "execution_count": 30
        }
      ]
    },
    {
      "cell_type": "code",
      "source": [
        "def min_max(lst):\n",
        "    lst1 = []\n",
        "    n = len(lst)\n",
        "\n",
        "    for i in range(n):\n",
        "        if i % 2 == 0:\n",
        "            lst1.append(lst[(n - i // 2) - 1])\n",
        "        else:\n",
        "            lst1.append(lst[i // 2])\n",
        "\n",
        "    return lst1\n",
        "\n",
        "# Example usage:\n",
        "input_list = [1, 2, 3, 4, 5]\n",
        "result = min_max(input_list)\n",
        "print(result)\n",
        "\n"
      ],
      "metadata": {
        "colab": {
          "base_uri": "https://localhost:8080/"
        },
        "id": "3wlwUSWYucGy",
        "outputId": "17afbe59-a4a1-4dd6-e81b-1fce7bedf938"
      },
      "execution_count": null,
      "outputs": [
        {
          "output_type": "stream",
          "name": "stdout",
          "text": [
            "[5, 1, 4, 2, 3]\n"
          ]
        }
      ]
    },
    {
      "cell_type": "code",
      "source": [
        "def min_max(lst):\n",
        "    lst1 = []\n",
        "    n = len(lst)\n",
        "\n",
        "    for i in range(n):\n",
        "        if i % 2 == 0:\n",
        "            lst1.append(lst[n - i - 1])\n",
        "        else:\n",
        "            lst1.append(lst[i])\n",
        "\n",
        "    return lst1\n",
        "\n",
        "# Example usage:\n",
        "input_list = [1, 2, 3, 4, 5]\n",
        "result = min_max(input_list)\n",
        "print(result)\n"
      ],
      "metadata": {
        "colab": {
          "base_uri": "https://localhost:8080/"
        },
        "id": "0_zwJJstx3Ps",
        "outputId": "5f332574-987c-40fa-ffc4-88d8d975431e"
      },
      "execution_count": null,
      "outputs": [
        {
          "output_type": "stream",
          "name": "stdout",
          "text": [
            "[5, 2, 3, 4, 1]\n"
          ]
        }
      ]
    },
    {
      "cell_type": "code",
      "source": [
        "\n",
        "def max_sublist_sum(lst):\n",
        "    if not lst:\n",
        "        return 0\n",
        "\n",
        "    max_sum = current_sum = lst[0]\n",
        "\n",
        "    for num in lst[1:]:\n",
        "        current_sum = max(num, current_sum + num)\n",
        "        max_sum = max(max_sum, current_sum)\n",
        "\n",
        "    return max_sum\n",
        "\n",
        "# Example usage:\n",
        "input_list = [-2, 1, -3, 4, -1, 2, 1, -5, 4]\n",
        "result = max_sublist_sum(input_list)\n",
        "print(result)\n"
      ],
      "metadata": {
        "id": "kePYqU6y1JKo",
        "outputId": "535153a6-7f93-4779-bd87-5d30030cb630",
        "colab": {
          "base_uri": "https://localhost:8080/"
        }
      },
      "execution_count": null,
      "outputs": [
        {
          "output_type": "stream",
          "name": "stdout",
          "text": [
            "6\n"
          ]
        }
      ]
    }
  ]
}